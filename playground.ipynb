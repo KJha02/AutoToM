{
 "cells": [
  {
   "cell_type": "code",
   "execution_count": 8,
   "metadata": {},
   "outputs": [],
   "source": [
    "# Example usage for customized questions\n",
    "story = \"\"\"1 Ella entered the master_bedroom.\n",
    "2 Ava entered the master_bedroom.\n",
    "3 The onion is in the envelope.\n",
    "4 The envelope is in the master_bedroom.\n",
    "5 Ella exited the master_bedroom.\n",
    "6 Ava moved the onion to the box.\n",
    "7 The box is in the master_bedroom.\n",
    "8 Ava exited the master_bedroom.\n",
    "9 Ella entered the hallway.\"\"\"\n",
    "question = \"Where will Ella look for the onion?\"\n",
    "choices = [\"envelope\", \"box\"] # Correct answer is envelope.\n",
    "dataset_name = \"customize\"\n",
    "episode_name = \"customize_0\"\n",
    "verbose = False"
   ]
  },
  {
   "cell_type": "code",
   "execution_count": 6,
   "metadata": {},
   "outputs": [
    {
     "name": "stdout",
     "output_type": "stream",
     "text": [
      "Initial Model proposed:  ['State', 'Observation', 'Belief']\n",
      "Starting from timestep 3\n",
      "Node results saved to ../results/node_results/automated_customize_1_back1_reduce1.csv\n",
      "\u001b[92mAfter time 3: Ella's Belief Probs calculated as ['Ella will look for the onion in the envelope.', 'Ella will look for the onion in the box.'], [0.5, 0.5]\u001b[0m\n",
      "Initial Terminate:  False\n",
      "Initial Utility:  -0.6931471805599453\n",
      "Node results saved to ../results/node_results/automated_customize_1_back1_reduce1.csv\n",
      "\u001b[92mAfter time 3: Ella's Belief Probs calculated as ['Ella will look for the onion in the envelope.', 'Ella will look for the onion in the box.'], [0.5, 0.5]\u001b[0m\n",
      "Model test:  ['State', 'Observation', 'Belief', 'Action', 'Goal']\n",
      "Model test results:  [0.5, 0.5]\n",
      "Initial Utility:  -0.6931471805599453\n",
      "Utility Experiments:  {'Action': -0.6931471805599453}\n",
      "Starting from timestep 2\n",
      "\u001b[92mAfter time 2: Belief Probs Updated to ['Ella will look for the onion in the envelope.', 'Ella will look for the onion in the box.'], [0.5, 0.5]\u001b[0m\n",
      "Node results saved to ../results/node_results/automated_customize_1_back1_reduce1.csv\n",
      "\u001b[92mAfter time 3: Ella's Belief Probs calculated as ['Ella will look for the onion in the envelope.', 'Ella will look for the onion in the box.'], [0.5, 0.5000000000000001]\u001b[0m\n",
      "Initial Terminate:  False\n",
      "Initial Utility:  -0.6931471805599452\n",
      "\u001b[91mAccumulated Cost of Proposing Hypotheses: 0.012410000000000004 in 10 times\u001b[0m\n",
      "\u001b[92mAfter time 2: Belief Probs Updated to ['Ella will look for the onion in the envelope.', 'Ella will look for the onion in the box.'], [0.5, 0.5]\u001b[0m\n",
      "Node results saved to ../results/node_results/automated_customize_1_back1_reduce1.csv\n",
      "\u001b[92mAfter time 3: Ella's Belief Probs calculated as ['Ella will look for the onion in the envelope.', 'Ella will look for the onion in the box.'], [0.5, 0.5000000000000001]\u001b[0m\n",
      "Model test:  ['State', 'Observation', 'Belief', 'Action', 'Goal']\n",
      "Model test results:  [0.5, 0.5000000000000001]\n",
      "Initial Utility:  -0.6931471805599452\n",
      "Utility Experiments:  {'Action': -0.6931471805599452}\n",
      "Starting from timestep 1\n",
      "\u001b[91mAccumulated Cost of Estimating Likelihood: 0.008440000000000001 in 10 times\u001b[0m\n",
      "\u001b[92mAfter time 1: Belief Probs Updated to ['Ella will look for the onion in the envelope.', 'Ella will look for the onion in the box.'], [0.9659225691929958, 0.03407743080700431]\u001b[0m\n",
      "\u001b[92mAfter time 2: Belief Probs Updated to ['Ella will look for the onion in the envelope.', 'Ella will look for the onion in the box.'], [0.9387814486574814, 0.06121855134251863]\u001b[0m\n",
      "Node results saved to ../results/node_results/automated_customize_1_back1_reduce1.csv\n",
      "\u001b[92mAfter time 3: Ella's Belief Probs calculated as ['Ella will look for the onion in the envelope.', 'Ella will look for the onion in the box.'], [0.9132213642696669, 0.08677863573033306]\u001b[0m\n",
      "Probs results saved to ../results/probs/automated_customize_1.csv\n",
      "Initial Terminate:  True\n",
      "{'Initial model propose': ['State', 'Observation', 'Belief'], 'Assigned models': {3: ['State', 'Observation', 'Belief'], 2: ['State', 'Observation', 'Belief'], 1: ['State', 'Observation', 'Belief']}}\n",
      "['envelope', 'box'] [0.9132213642696669, 0.08677863573033306]\n"
     ]
    }
   ],
   "source": [
    "import os\n",
    "if 'model' not in os.getcwd():\n",
    "    os.chdir('model')\n",
    "\n",
    "from model.ProbSolver import ProblemSolver, argmax, argmin\n",
    "solver = ProblemSolver(\n",
    "        story=story,\n",
    "        question=question,\n",
    "        choices=choices,\n",
    "        K=1,\n",
    "        assigned_model=[],\n",
    "        model_name=\"automated\",\n",
    "        episode_name=episode_name,\n",
    "        llm=\"gpt-4o\",\n",
    "        verbose=verbose,\n",
    "        dataset_name=dataset_name,\n",
    "        hypo_method=\"guided\",\n",
    "        nested=False,\n",
    "        video_id=None,\n",
    "        answerfunc=argmax,\n",
    "        back_inference=True,\n",
    "        reduce_hypotheses=True,\n",
    "        precomputed_states=None,\n",
    "        precomputed_actions=None,\n",
    "        prev_hyp=None,\n",
    "        no_model_adjustment=False,\n",
    "        recursion_depth=None\n",
    "    )\n",
    "\n",
    "final_probs, model_record = solver.solve()\n",
    "print(choices, final_probs)"
   ]
  }
 ],
 "metadata": {
  "kernelspec": {
   "display_name": "py310",
   "language": "python",
   "name": "python3"
  },
  "language_info": {
   "codemirror_mode": {
    "name": "ipython",
    "version": 3
   },
   "file_extension": ".py",
   "mimetype": "text/x-python",
   "name": "python",
   "nbconvert_exporter": "python",
   "pygments_lexer": "ipython3",
   "version": "3.10.9"
  }
 },
 "nbformat": 4,
 "nbformat_minor": 2
}
